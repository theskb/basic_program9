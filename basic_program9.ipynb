{
 "cells": [
  {
   "cell_type": "code",
   "execution_count": null,
   "metadata": {},
   "outputs": [],
   "source": [
    "#1.Write a Python program to check if the given number is a Disarium Number?"
   ]
  },
  {
   "cell_type": "code",
   "execution_count": 4,
   "metadata": {},
   "outputs": [
    {
     "name": "stdout",
     "output_type": "stream",
     "text": [
      "Enter the number :89\n",
      "89 Number is Disarium\n"
     ]
    }
   ],
   "source": [
    "def Disarium(num):\n",
    "    sum = 0\n",
    "    while(num>0):\n",
    "        l= len(str(num))\n",
    "        n = num%10\n",
    "        sum= sum + n**l   \n",
    "        l-=1\n",
    "        num = num//10\n",
    "    return sum\n",
    "\n",
    "num = int(input(\"Enter the number :\"))\n",
    "\n",
    "\n",
    "sum = Disarium(num)\n",
    "if sum == num:\n",
    "    print(num,\"Number is Disarium\")\n",
    "else:\n",
    "    print(num,\"Number is not Disarium\")"
   ]
  },
  {
   "cell_type": "code",
   "execution_count": null,
   "metadata": {},
   "outputs": [],
   "source": [
    "#2.Write a Python program to print all disarium numbers between 1 to 100?"
   ]
  },
  {
   "cell_type": "code",
   "execution_count": 1,
   "metadata": {},
   "outputs": [
    {
     "name": "stdout",
     "output_type": "stream",
     "text": [
      "Disarium no in range 1 to 100\n",
      "[1, 2, 3, 4, 5, 6, 7, 8, 9, 89]\n"
     ]
    }
   ],
   "source": [
    "def disarium(num):\n",
    "    sum=0\n",
    "    while(num>0):\n",
    "        l=len(str(num))\n",
    "        n= num % 10\n",
    "        sum = sum + n**l\n",
    "        l-=1\n",
    "        num=num // 10\n",
    "    return sum\n",
    "\n",
    "print(\"Disarium no in range 1 to 100\")\n",
    "\n",
    "Disnum =[]\n",
    "for i in range(1,101):\n",
    "    sum=0\n",
    "    sum = disarium(i)\n",
    "    if sum == i:\n",
    "        Disnum.append(i)\n",
    "        \n",
    "print(Disnum)\n",
    "        "
   ]
  },
  {
   "cell_type": "code",
   "execution_count": null,
   "metadata": {},
   "outputs": [],
   "source": [
    "#3.Write a Python program to check if the given number is Happy Number?"
   ]
  },
  {
   "cell_type": "code",
   "execution_count": 9,
   "metadata": {},
   "outputs": [
    {
     "name": "stdout",
     "output_type": "stream",
     "text": [
      "Enter the number: 82\n",
      "82  is happy number\n"
     ]
    }
   ],
   "source": [
    "def happy(num):\n",
    "    sum=0\n",
    "    while(num>0):\n",
    "        n=num%10\n",
    "        sum=sum + n**2\n",
    "        num=num//10\n",
    "    return sum\n",
    "\n",
    "num=int(input(\"Enter the number: \"))\n",
    "result=num\n",
    "\n",
    "while(result!=1 and result!=4):\n",
    "    result=happy(result)\n",
    "\n",
    "if result==1:\n",
    "    print(num,\" is happy number\")\n",
    "else:\n",
    "    print(num,\" is not happy number\")\n",
    "    "
   ]
  },
  {
   "cell_type": "code",
   "execution_count": null,
   "metadata": {},
   "outputs": [],
   "source": [
    "#4.Write a Python program to print all happy numbers between 1 and 100?"
   ]
  },
  {
   "cell_type": "code",
   "execution_count": 11,
   "metadata": {},
   "outputs": [
    {
     "name": "stdout",
     "output_type": "stream",
     "text": [
      "[1, 7, 10, 13, 19, 23, 28, 31, 32, 44, 49, 68, 70, 79, 82, 86, 91, 94, 97, 100]\n"
     ]
    }
   ],
   "source": [
    "def happy(num):\n",
    "    sum=0\n",
    "    while(num>0):\n",
    "        n=num%10\n",
    "        sum=sum+n**2\n",
    "        num=num//10\n",
    "    return sum\n",
    "\n",
    "happynum=[]\n",
    "for i in range(1,101):\n",
    "    result=i\n",
    "    while(result!=1 and result!=4):\n",
    "        result=happy(result)\n",
    "    if result==1:\n",
    "        happynum.append(i)\n",
    "print(happynum)"
   ]
  },
  {
   "cell_type": "code",
   "execution_count": null,
   "metadata": {},
   "outputs": [],
   "source": [
    "#5.Write a Python program to determine whether the given number is a Harshad Number?"
   ]
  },
  {
   "cell_type": "code",
   "execution_count": 16,
   "metadata": {},
   "outputs": [
    {
     "name": "stdout",
     "output_type": "stream",
     "text": [
      "Enter the number :12\n",
      "12  is harshad number\n"
     ]
    }
   ],
   "source": [
    "def harshad(num):\n",
    "    sum=0\n",
    "    while(num>0):\n",
    "        n=num%10\n",
    "        sum=sum+n\n",
    "        num=num//10\n",
    "    return sum\n",
    "        \n",
    "\n",
    "num= int(input(\"Enter the number :\"))\n",
    "result = harshad(num)\n",
    "if num % result == 0:\n",
    "    print(num,\" is harshad number\")\n",
    "else:\n",
    "     print(num,\" is not a harshad number\")"
   ]
  },
  {
   "cell_type": "code",
   "execution_count": null,
   "metadata": {},
   "outputs": [],
   "source": [
    "#6.Write a Python program to print all pronic numbers between 1 and 100?"
   ]
  },
  {
   "cell_type": "code",
   "execution_count": 19,
   "metadata": {},
   "outputs": [
    {
     "name": "stdout",
     "output_type": "stream",
     "text": [
      "Pronic numbers in range 1 to 100\n",
      "[6, 12, 20, 30, 42, 56, 72, 90]\n"
     ]
    }
   ],
   "source": [
    "def PronicNo(num):\n",
    "    Pronic = False\n",
    "    for i in range(1,num//2):\n",
    "        if i*(i+1) == num:\n",
    "            Pronic = True\n",
    "            break\n",
    "    return Pronic\n",
    "\n",
    "print(\"Pronic numbers in range 1 to 100\")\n",
    "pronicno = []\n",
    "for i in range(1,101):\n",
    "    if PronicNo(i):\n",
    "        pronicno.append(i)\n",
    "print(pronicno)"
   ]
  },
  {
   "cell_type": "code",
   "execution_count": null,
   "metadata": {},
   "outputs": [],
   "source": []
  }
 ],
 "metadata": {
  "kernelspec": {
   "display_name": "Python 3",
   "language": "python",
   "name": "python3"
  },
  "language_info": {
   "codemirror_mode": {
    "name": "ipython",
    "version": 3
   },
   "file_extension": ".py",
   "mimetype": "text/x-python",
   "name": "python",
   "nbconvert_exporter": "python",
   "pygments_lexer": "ipython3",
   "version": "3.8.5"
  }
 },
 "nbformat": 4,
 "nbformat_minor": 4
}
